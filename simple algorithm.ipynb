{
 "cells": [
  {
   "cell_type": "code",
   "execution_count": 1,
   "metadata": {},
   "outputs": [],
   "source": [
    "import syft as sy\n",
    "import torch as th\n",
    "\n",
    "hook = sy.TorchHook(th)"
   ]
  },
  {
   "cell_type": "code",
   "execution_count": 15,
   "metadata": {},
   "outputs": [
    {
     "name": "stderr",
     "output_type": "stream",
     "text": [
      "Worker bob already exists. Replacing old worker which could cause                     unexpected behavior\n",
      "Worker alice already exists. Replacing old worker which could cause                     unexpected behavior\n"
     ]
    },
    {
     "data": {
      "text/plain": [
       "{22724664448: tensor([1., 2., 3., 4.])}"
      ]
     },
     "execution_count": 15,
     "metadata": {},
     "output_type": "execute_result"
    }
   ],
   "source": [
    "alice = sy.VirtualWorker(hook, id='alice')\n",
    "bob = sy.VirtualWorker(hook, id='bob')\n",
    "\n",
    "alice.clear_objects()\n",
    "bob.clear_objects()\n",
    "\n",
    "alice.add_workers([bob])\n",
    "bob.add_workers([alice])\n",
    "\n",
    "x_p = th.Tensor([1,2,3,4]).send(alice)\n",
    "y_p = th.Tensor([5,6,7,8]).send(bob)\n",
    "\n",
    "alice._objects"
   ]
  },
  {
   "cell_type": "code",
   "execution_count": 17,
   "metadata": {},
   "outputs": [
    {
     "data": {
      "text/plain": [
       "tensor([ 6.,  8., 10., 12.])"
      ]
     },
     "execution_count": 17,
     "metadata": {},
     "output_type": "execute_result"
    }
   ],
   "source": [
    "# Move the tensors to the same place\n",
    "x_p.move(bob)\n",
    "\n",
    "# Perform analysis\n",
    "result_p = x_p + y_p\n",
    "\n",
    "# Receive result\n",
    "result = result_p.get()\n",
    "\n",
    "result"
   ]
  }
 ],
 "metadata": {
  "kernelspec": {
   "display_name": "Python 3",
   "language": "python",
   "name": "python3"
  },
  "language_info": {
   "codemirror_mode": {
    "name": "ipython",
    "version": 3
   },
   "file_extension": ".py",
   "mimetype": "text/x-python",
   "name": "python",
   "nbconvert_exporter": "python",
   "pygments_lexer": "ipython3",
   "version": "3.7.9"
  }
 },
 "nbformat": 4,
 "nbformat_minor": 4
}
