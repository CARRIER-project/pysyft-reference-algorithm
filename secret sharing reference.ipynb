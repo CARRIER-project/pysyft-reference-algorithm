{
 "cells": [
  {
   "cell_type": "code",
   "execution_count": 1,
   "metadata": {},
   "outputs": [],
   "source": [
    "import syft as sy\n",
    "import torch as th\n",
    "\n",
    "hook = sy.TorchHook(th)"
   ]
  },
  {
   "cell_type": "markdown",
   "metadata": {},
   "source": [
    "# Step one: defining the parties\n",
    "\n",
    "Alice and bob will be the data owners.\n",
    "There is an implicit third party called \"me\" which is the party which runs the code, holds the pointers to the data, and will also be the crypto provider because we haven't defined a separate crypto provider."
   ]
  },
  {
   "cell_type": "code",
   "execution_count": 2,
   "metadata": {},
   "outputs": [
    {
     "name": "stderr",
     "output_type": "stream",
     "text": [
      "Worker bob already exists. Replacing old worker which could cause                     unexpected behavior\n",
      "Worker alice already exists. Replacing old worker which could cause                     unexpected behavior\n"
     ]
    },
    {
     "data": {
      "text/plain": [
       "<VirtualWorker id:bob #objects:0>"
      ]
     },
     "execution_count": 2,
     "metadata": {},
     "output_type": "execute_result"
    }
   ],
   "source": [
    "alice = sy.VirtualWorker(hook, id='alice')\n",
    "bob = sy.VirtualWorker(hook, id='bob')\n",
    "\n",
    "alice.add_workers([bob])\n",
    "bob.add_workers([alice])"
   ]
  },
  {
   "cell_type": "markdown",
   "metadata": {},
   "source": [
    "# Step two: storing the data\n",
    "Two tensors _x_ and _y_ are defined and sent to Alice and Bob. "
   ]
  },
  {
   "cell_type": "code",
   "execution_count": 3,
   "metadata": {},
   "outputs": [
    {
     "data": {
      "text/plain": [
       "{93107390310: tensor([1., 2., 3.])}"
      ]
     },
     "execution_count": 3,
     "metadata": {},
     "output_type": "execute_result"
    }
   ],
   "source": [
    "x = th.Tensor([1,2,3])\n",
    "y = th.Tensor([4,5,6])\n",
    "\n",
    "x_p = x.send(alice)\n",
    "y_p = y.send(bob)\n",
    "\n",
    "alice._objects"
   ]
  },
  {
   "cell_type": "markdown",
   "metadata": {},
   "source": [
    "# Step three: sharing secrets\n",
    "`x` and `y` are converted to fixed precision values and encrypted into shared secrets.\n",
    "Alice and Bob now contain an AdditiveSharingTensor, which contains pointers to all the secret shares at the different locations."
   ]
  },
  {
   "cell_type": "code",
   "execution_count": 4,
   "metadata": {},
   "outputs": [
    {
     "data": {
      "text/plain": [
       "{93107390310: tensor([1., 2., 3.]),\n",
       " 14474660578: tensor([ 3509559978586529153,  2176485925326727821, -3547211131702888029]),\n",
       " 34608355359: (Wrapper)>FixedPrecisionTensor>[AdditiveSharingTensor]\n",
       " \t-> [PointerTensor | me:29603345025 -> bob:68716225855]\n",
       " \t-> [PointerTensor | me:4526064845 -> alice:14474660578]\n",
       " \t*crypto provider: me*,\n",
       " 22089987977: tensor([-4615140013289734418, -2309704696375277563,  6548228024791879498])}"
      ]
     },
     "execution_count": 4,
     "metadata": {},
     "output_type": "execute_result"
    }
   ],
   "source": [
    "x_share = x_p.fix_prec().share(bob, alice)\n",
    "y_share = y_p.fix_prec().share(bob, alice)\n",
    "\n",
    "alice._objects"
   ]
  },
  {
   "cell_type": "markdown",
   "metadata": {},
   "source": [
    "# Step four: collecting the pointers for the shared secrets and performing the analysis\n",
    "In order to perform computations on the AdditiveSharingTensors they need to be moved to the same party by calling `get`. Mind you, this does not move the secret values, merely the pointers to the cryptographical pieces that are located at the different parties.\n",
    "\n",
    "After moving the tensors we can perform the analysis. The result of the analysis will be another AdditiveSharingTensor."
   ]
  },
  {
   "cell_type": "code",
   "execution_count": 5,
   "metadata": {},
   "outputs": [
    {
     "data": {
      "text/plain": [
       "(Wrapper)>FixedPrecisionTensor>[AdditiveSharingTensor]\n",
       "\t-> [PointerTensor | me:16437238094 -> bob:37544521377]\n",
       "\t-> [PointerTensor | me:15871848716 -> alice:81706895712]\n",
       "\t*crypto provider: me*"
      ]
     },
     "execution_count": 5,
     "metadata": {},
     "output_type": "execute_result"
    }
   ],
   "source": [
    "secret_result = (x_share.get() + y_share.get())/2\n",
    "secret_result"
   ]
  },
  {
   "cell_type": "markdown",
   "metadata": {},
   "source": [
    "# Step five: Getting the result of the computation\n",
    "After performing the computation it is time to decrypt the result and convert it back into a float."
   ]
  },
  {
   "cell_type": "code",
   "execution_count": 6,
   "metadata": {},
   "outputs": [
    {
     "data": {
      "text/plain": [
       "tensor([2.5000, 3.5000, 4.5000])"
      ]
     },
     "execution_count": 6,
     "metadata": {},
     "output_type": "execute_result"
    }
   ],
   "source": [
    "result = secret_result.get().float_prec()\n",
    "result"
   ]
  }
 ],
 "metadata": {
  "kernelspec": {
   "display_name": "Python 3",
   "language": "python",
   "name": "python3"
  },
  "language_info": {
   "codemirror_mode": {
    "name": "ipython",
    "version": 3
   },
   "file_extension": ".py",
   "mimetype": "text/x-python",
   "name": "python",
   "nbconvert_exporter": "python",
   "pygments_lexer": "ipython3",
   "version": "3.7.9"
  }
 },
 "nbformat": 4,
 "nbformat_minor": 5
}
